{
  "cells": [
    {
      "cell_type": "markdown",
      "id": "5a0f113c",
      "metadata": {
        "id": "5a0f113c"
      },
      "source": [
        "<center>\n",
        "\n",
        "# <font color =\"#d61565ff\">Desafio Final Fábrica de Software 2025.2 - IA/ML </font>\n",
        "\n",
        "</center>"
      ]
    },
    {
      "cell_type": "markdown",
      "id": "33067673",
      "metadata": {
        "id": "33067673"
      },
      "source": [
        "## Introdução!"
      ]
    },
    {
      "cell_type": "markdown",
      "id": "20a62754",
      "metadata": {
        "id": "20a62754"
      },
      "source": [
        "Olá ALUNO! Para participar da 2º etapa do Workshop, você deve abrir o link do colab abaixo e fazer uma cópia para seu drive e inserir as respostas nos campos.\n",
        "\n",
        "Após responder, basta compartilhar conosco e nos enviar o link no email: desafioworkshop@gmail.com com o assunto **DESAFIO IA/ML 2025.2 - SEU_NOME**\n",
        "\n",
        "Pedimos que envie o notebook até o dia <13/09/2025 às 23:59>. Notebooks enviados após essa data NÃO serão aceitos."
      ]
    },
    {
      "cell_type": "markdown",
      "id": "f59e92ba",
      "metadata": {
        "id": "f59e92ba"
      },
      "source": [
        "## Instruções:\n",
        "<br>1. Abra o Google Colaboratory;\n",
        "<br>2. Faça uma cópia no seu drive;\n",
        "<br>3. Localize o notebook e abra-o;\n",
        "<br>4. Responda o questionário;\n",
        "<br>5. Salve o notebook e submeta-o através de nosso email: desafioworkshop@gmail.com"
      ]
    },
    {
      "cell_type": "markdown",
      "id": "c5adf035",
      "metadata": {
        "id": "c5adf035"
      },
      "source": [
        "## Materiais"
      ]
    },
    {
      "cell_type": "markdown",
      "id": "33c3cf60",
      "metadata": {
        "id": "33c3cf60"
      },
      "source": [
        "**Anexo :**\n",
        "\n",
        "Para auxilio com as questões, disponibilizamos o livro *Python para Estatísticos*, do professor Telmo de Menezes e Silva Filho, do Departamento de Estatística da Universidade Federal da Paraíba (UFPB):\n",
        "\n",
        "[**Python para Estatísticos**](https://tmfilho.github.io/pyestbook)\n",
        "\n",
        "Link para bibliotecas essênciais para desenvolver os problemas abaixo:\n",
        "\n",
        "[**Bibliotecas essenciais**](https://github.com/Manuelfjr/processo2fase_anexo)\n",
        "\n",
        "Slides das aulas de Thaís:  \n",
        "  \n",
        "[**Slides**](https://sites.google.com/site/gaudenciothaisia/home/aulas)\n",
        "\n",
        "Ebook Visão Computacional (OpenCV):\n",
        "\n",
        "[**Ebook Visão computacional**](https://professor.luzerna.ifc.edu.br/ricardo-antonello/wp-content/uploads/sites/8/2017/02/Livro-Introdu%C3%A7%C3%A3o-a-Vis%C3%A3o-Computacional-com-Python-e-OpenCV-3.pdf)\n",
        "\n",
        "Outros materiais, específicos para resolução de certas questões, serão especificados em seus enunciados."
      ]
    },
    {
      "cell_type": "markdown",
      "id": "b3d718da",
      "metadata": {
        "id": "b3d718da"
      },
      "source": [
        "# **Avisos**\n",
        "Aqui vai uma série de avisos e dicas:\n",
        "* Uso do **chatgpt** é permitido, porém use com bom senso e especifique quando ele for usado (Priorize tirar dúvidas com monitores)\n",
        "* Se **esforcem**. Mesmo que não consigam responder tudo, deem o máximo de si.\n",
        "* **Descrevam o que pensaram** e como fizeram ou teriam feito para resolver a questão (isso é muito importante).\n",
        "* Se divirtam. Vai ser muito legal ter vocês conosco!\n",
        "\n",
        "**IMPORTANTE**\n",
        "* O uso indevido de LLMs para fazer questões completas será penalizado com anulação da questão! (Entende-se que o uso indevido é quando o LLM é usado para fazer questões completas, ou quase a totalidade delas) - Se usado, especifique como foi usado e como.\n",
        "\n",
        "![](https://github.com/TailUFPB/processo2fase/raw/master/img/ygt.jpg)"
      ]
    },
    {
      "cell_type": "markdown",
      "id": "ddca27de",
      "metadata": {
        "id": "ddca27de"
      },
      "source": [
        "# Questão 1: Cifra de César\n",
        "\n",
        "\n",
        "---"
      ]
    },
    {
      "cell_type": "markdown",
      "id": "0e2ac438",
      "metadata": {
        "id": "0e2ac438"
      },
      "source": [
        "<center>\n",
        "\n",
        "<img src=\"https://upload.wikimedia.org/wikipedia/commons/thumb/2/2b/Caesar3.svg/640px-Caesar3.svg.png \" alt=\"drawing\" width=\"1000\"/>"
      ]
    },
    {
      "cell_type": "markdown",
      "id": "4e8c6190",
      "metadata": {
        "id": "4e8c6190"
      },
      "source": [
        "**Descrição:**  \n",
        "A **Cifra de César** é um dos algoritmos de criptografia mais antigos.  \n",
        "A ideia é simples: cada letra do texto é deslocada um certo número de posições no alfabeto.  \n",
        "\n",
        "Por exemplo, com deslocamento de `3`:  \n",
        "- `\"A\"` vira `\"D\"`  \n",
        "- `\"B\"` vira `\"E\"`  \n",
        "- `\"Z\"` volta para o início e vira `\"C\"`  \n",
        "\n",
        "Você deverá implementar duas funções que **codifiquem** e **decodifiquem** mensagens usando a cifra de César.  \n",
        "\n",
        "\n",
        "\n",
        "**Comando:**  \n",
        "1. Implemente a função `codificar_cesar(texto: str, deslocamento: int) -> str` que deve receber uma mensagem e retornar o texto codificado.  \n",
        "2. Implemente a função `decodificar_cesar(texto: str, deslocamento: int) -> str` que deve receber um texto cifrado e retornar a mensagem original.  \n",
        "\n",
        "\n",
        "**Necessidades:**  \n",
        "- Considere apenas **letras do alfabeto** (maiúsculas e minúsculas devem ser preservadas).  \n",
        "- Espaços, números e pontuações devem permanecer inalterados.  \n",
        "- O deslocamento pode ser qualquer número inteiro positivo.  \n",
        "\n",
        "---\n",
        "\n",
        "**Exemplo de uso esperado:**  \n",
        "- Entrada: `codificar_cesar(\"Ola Mundo!\", 3)`  \n",
        "  - Saída esperada: `\"Rod Pxqgr!\"`  \n",
        "\n",
        "- Entrada: `decodificar_cesar(\"Rod Pxqgr!\", 3)`  \n",
        "  - Saída esperada: `\"Ola Mundo!\"`  \n",
        "\n",
        "---\n",
        "\n",
        "### Referências:\n",
        "\n",
        " - [Entenda Cifra de César](https://pt.wikipedia.org/wiki/Cifra_de_C%C3%A9sar)\n",
        "\n",
        " - [Vídeo explicativo (Cifra de César)](https://www.youtube.com/watch?v=Iw-CO4MjDkE)\n",
        "\n",
        "\n"
      ]
    },
    {
      "cell_type": "markdown",
      "id": "57e9ce94",
      "metadata": {
        "id": "57e9ce94"
      },
      "source": [
        "**Resposta:**"
      ]
    },
    {
      "cell_type": "code",
      "execution_count": null,
      "id": "be113122",
      "metadata": {
        "id": "be113122"
      },
      "outputs": [],
      "source": [
        "\"\"\" - Para fazer a função precisamos usar o 'chr()': Essa função em Python é uma ferramenta para a manipulação de caracteres.\n",
        "Sua finalidade é converter um número inteiro, que representa um ponto de código Unicode, no seu caractere correspondente.\n",
        "    - Também devemos usar o 'isalpha()': Função Python que verifica se um caractere é uma letra.\n",
        "\"\"\"\n",
        "def codificar_cesar(texto: str, deslocamento: int) -> str:\n",
        "    texto_cifrado = ''\n",
        "\n",
        "    for letra in texto:\n",
        "        if letra.isalpha():\n",
        "\n",
        "            if letra.isupper():\n",
        "                novo_codigo = ord(letra) + deslocamento\n",
        "\n",
        "                if novo_codigo > ord('Z'):\n",
        "                    novo_codigo = novo_codigo - 26\n",
        "\n",
        "                if novo_codigo < ord('A'):\n",
        "                    novo_codigo = novo_codigo + 26\n",
        "\n",
        "                texto_cifrado = texto_cifrado + chr(novo_codigo)\n",
        "\n",
        "            else:\n",
        "                novo_codigo = ord(letra) + deslocamento\n",
        "\n",
        "                if novo_codigo > ord('z'):\n",
        "                    novo_codigo = novo_codigo - 26\n",
        "\n",
        "                if novo_codigo < ord('a'):\n",
        "                    novo_codigo = novo_codigo + 26\n",
        "\n",
        "                texto_cifrado = texto_cifrado + chr(novo_codigo)\n",
        "        else:\n",
        "            texto_cifrado = texto_cifrado + letra\n",
        "\n",
        "    return texto_cifrado\n"
      ]
    },
    {
      "cell_type": "code",
      "execution_count": null,
      "id": "20329aef",
      "metadata": {
        "id": "20329aef"
      },
      "outputs": [],
      "source": [
        "def decodificar_cesar(texto: str, deslocamento: int) -> str:\n",
        "    texto_cifrado = ''\n",
        "\n",
        "    for letra in texto:\n",
        "        if letra.isalpha():\n",
        "\n",
        "            if letra.isupper():\n",
        "                novo_codigo = ord(letra) - deslocamento\n",
        "\n",
        "                if novo_codigo > ord('Z'):\n",
        "                    novo_codigo = novo_codigo - 26\n",
        "\n",
        "                if novo_codigo < ord('A'):\n",
        "                    novo_codigo = novo_codigo + 26\n",
        "\n",
        "                texto_cifrado = texto_cifrado + chr(novo_codigo)\n",
        "\n",
        "            else:\n",
        "                novo_codigo = ord(letra) - deslocamento\n",
        "\n",
        "                if novo_codigo > ord('z'):\n",
        "                    novo_codigo = novo_codigo - 26\n",
        "\n",
        "                if novo_codigo < ord('a'):\n",
        "                    novo_codigo = novo_codigo + 26\n",
        "\n",
        "                texto_cifrado = texto_cifrado + chr(novo_codigo)\n",
        "        else:\n",
        "            texto_cifrado = texto_cifrado + letra\n",
        "\n",
        "    return texto_cifrado"
      ]
    },
    {
      "cell_type": "markdown",
      "id": "7ca319c5",
      "metadata": {
        "id": "7ca319c5"
      },
      "source": [
        "## **Área de Teste das Funções:**"
      ]
    },
    {
      "cell_type": "code",
      "execution_count": null,
      "id": "64967c9d",
      "metadata": {
        "id": "64967c9d"
      },
      "outputs": [],
      "source": [
        "mensagem = \"Workshop IA & ML 2025.2!\"\n",
        "deslocamento = 4"
      ]
    },
    {
      "cell_type": "code",
      "execution_count": null,
      "id": "c8c2c06c",
      "metadata": {
        "id": "c8c2c06c"
      },
      "outputs": [],
      "source": [
        "# Testando codificação\n",
        "codificada = codificar_cesar(mensagem, deslocamento)\n",
        "print(\"Mensagem codificada:\", codificada)"
      ]
    },
    {
      "cell_type": "code",
      "execution_count": null,
      "id": "750db623",
      "metadata": {
        "id": "750db623"
      },
      "outputs": [],
      "source": [
        "# Testando decodificação\n",
        "decodificada = decodificar_cesar(codificada, deslocamento)\n",
        "print(\"Mensagem decodificada:\", decodificada)"
      ]
    },
    {
      "cell_type": "markdown",
      "id": "5be6b61b",
      "metadata": {
        "id": "5be6b61b"
      },
      "source": [
        "# Questão 2: Minecraft\n",
        "\n",
        "---"
      ]
    },
    {
      "cell_type": "markdown",
      "id": "7bf4e560",
      "metadata": {
        "id": "7bf4e560"
      },
      "source": [
        "<center>\n",
        "\n",
        "<img src=\"https://static.wikia.nocookie.net/minecraft_gamepedia/images/d/db/Inventory.png/revision/latest?cb=20240727224408\" width=\"500\" height=\"500\"/>\n"
      ]
    },
    {
      "cell_type": "markdown",
      "id": "68fe9f48",
      "metadata": {
        "id": "68fe9f48"
      },
      "source": [
        "**Descrição:**\n",
        "\n",
        "No jogo **Minecraft**, o inventário do jogador é uma grade de **3 linhas por 9 colunas**, onde cada slot pode conter um item ou estar vazio. Cada item pertence a uma **categoria**, por exemplo: `\"espada\"` → `\"arma\"`, `\"terra\"` → `\"bloco\"`.\n",
        "\n",
        "Você deverá criar um algoritmo que **conte quantos itens existem em cada categoria**, **incluindo os slots vazios** como uma categoria chamada `\"vazio\"`.\n",
        "\n",
        "### Objetivos da questão\n",
        "\n",
        "- Trabalhar com **matrizes (listas de listas)** em Python.  \n",
        "- Percorrer o inventário para **contar itens por categoria**, considerando slots vazios.  \n",
        "- Trabalhar com **dicionários** para mapear cada item à sua categoria.  \n",
        "\n",
        "\n",
        "---\n",
        "\n",
        "**Comando:**  \n",
        "\n",
        "Crie um algoritmo que percorra **todo o inventário** e conte quantos itens existem por categoria, **incluindo os slots vazios como a categoria `\"vazio\"`**.  \n",
        "O resultado deve ser um **dicionário** onde a chave é a categoria e o valor é o número de itens dessa categoria.\n",
        "\n",
        "\n",
        "\n",
        "---"
      ]
    },
    {
      "cell_type": "code",
      "execution_count": null,
      "id": "77ab4f15",
      "metadata": {
        "id": "77ab4f15"
      },
      "outputs": [],
      "source": [
        "# imports\n",
        "import random"
      ]
    },
    {
      "cell_type": "code",
      "execution_count": null,
      "id": "db2974eb",
      "metadata": {
        "id": "db2974eb"
      },
      "outputs": [],
      "source": [
        "# Dicionário de categorias\n",
        "categorias = {\n",
        "    \"espada\": \"ferramenta\",\n",
        "    \"machado\": \"ferramenta\",\n",
        "    \"arco\": \"ferramenta\",\n",
        "    \"terra\": \"bloco\",\n",
        "    \"pedra\": \"bloco\",\n",
        "    \"madeira\": \"bloco\",\n",
        "    \"pão\": \"comida\",\n",
        "    \"carne\": \"comida\",\n",
        "    \"peixe\": \"comida\",\n",
        "    \"ferro\": \"minério\",\n",
        "    \"ouro\": \"minério\",\n",
        "    \"diamante\": \"minério\"\n",
        "}\n",
        "\n",
        "# Lista de itens\n",
        "itens = list(categorias.keys())"
      ]
    },
    {
      "cell_type": "code",
      "execution_count": null,
      "id": "9b256488",
      "metadata": {
        "id": "9b256488"
      },
      "outputs": [],
      "source": [
        "# Função de criação randomizada do inventário.\n",
        "\n",
        "def gerar_inventario(linhas=3, colunas=9, itens=itens, chance_vazio=0.3):\n",
        "\n",
        "    inventario = []\n",
        "    for _ in range(linhas):\n",
        "        linha = []\n",
        "        for _ in range(colunas):\n",
        "            if random.random() < chance_vazio:\n",
        "                linha.append(None)  # slot vazio\n",
        "            else:\n",
        "                linha.append(random.choice(itens))\n",
        "        inventario.append(linha)\n",
        "    return inventario"
      ]
    },
    {
      "cell_type": "markdown",
      "id": "0dd82432",
      "metadata": {
        "id": "0dd82432"
      },
      "source": [
        "**Atenção!** <br>\n",
        "Você pode re-executar essa célula abaixo para que possa ser gerado um novo inventário aleatoriamente."
      ]
    },
    {
      "cell_type": "code",
      "execution_count": null,
      "id": "4ba12ea2",
      "metadata": {
        "id": "4ba12ea2"
      },
      "outputs": [],
      "source": [
        "# Gerar inventário aleatório\n",
        "inventario = gerar_inventario()\n",
        "\n",
        "# Mostrar inventário\n",
        "for linha in inventario:\n",
        "    print(linha)"
      ]
    },
    {
      "cell_type": "markdown",
      "id": "90c87a59",
      "metadata": {
        "id": "90c87a59"
      },
      "source": [
        "---"
      ]
    },
    {
      "cell_type": "markdown",
      "id": "f190e791",
      "metadata": {
        "id": "f190e791"
      },
      "source": [
        "## **Resposta:**"
      ]
    },
    {
      "cell_type": "code",
      "execution_count": null,
      "id": "aa11e324",
      "metadata": {
        "id": "aa11e324"
      },
      "outputs": [],
      "source": [
        "def contar_por_categoria(inventario, categorias):\n",
        "    \"\"\"\n",
        "    Conta quantos itens existem em cada categoria no inventário, incluindo slots vazios.\n",
        "\n",
        "    Parâmetros:\n",
        "    - inventario: matriz 3x9 com nomes de itens ou None\n",
        "    - categorias: dicionário que mapeia itens para categorias\n",
        "\n",
        "    Retorna:\n",
        "    - dict: {categoria: quantidade}\n",
        "    \"\"\"\n",
        "    contagens = {}\n",
        "\n",
        "    for linha in inventario:\n",
        "\n",
        "      for item in linha:\n",
        "        categoria_do_item = None\n",
        "        if item is None:\n",
        "          categoria_do_item = 'vazio'\n",
        "\n",
        "        else:\n",
        "          categoria_do_item = categorias[item]\n",
        "\n",
        "        if categoria_do_item in contagens:\n",
        "          contagens[categoria_do_item] += 1\n",
        "\n",
        "        else:\n",
        "          contagens[categoria_do_item] = 1\n",
        "\n",
        "    return contagens"
      ]
    },
    {
      "cell_type": "code",
      "source": [
        "# Resultado de tudo:\n",
        "print(f\"Inventário Gerado: \\n {inventario}\")\n",
        "\n",
        "resultado = contar_por_categoria(inventario, categorias)\n",
        "\n",
        "print('\\nResultado da contagem:')\n",
        "print(resultado)"
      ],
      "metadata": {
        "id": "6aUcoxxCGtKG"
      },
      "id": "6aUcoxxCGtKG",
      "execution_count": null,
      "outputs": []
    },
    {
      "cell_type": "markdown",
      "id": "bb07163e",
      "metadata": {
        "id": "bb07163e"
      },
      "source": [
        "# Questão 3: Dados\n",
        "---\n"
      ]
    },
    {
      "cell_type": "markdown",
      "id": "22e09a5b",
      "metadata": {
        "id": "22e09a5b"
      },
      "source": [
        "**Descrição:**\n",
        "\\\n",
        "Nessa seção, você adentrará no âmbito da análise de dados, que se trata do processo de limpeza, inspeção, modelagem e transformação de dados, corroborando para uma melhor interpretação dos dados e tomadas de decisão mais incisivas. Após essa breve introdução, você terá de analisar o dataset [California Housing Prices](https://www.kaggle.com/datasets/camnugget/california-housing-prices).\n",
        "\n",
        "Note que o dataset que será usado nessa questão não pode ser alterado, a importação dele está diretamente no código abaixo. Na parte 3.1\n",
        "\\\n",
        "Ele está com alguns problemas e necessita de uma boa análise, junto com limpezas de dados para ser melhor compreendido e utilizável para o Aprendizado de Máquina.\n",
        "Além disso, explore bem a parte de visualização de dados para garantir que as informações sejam compreendidas mais facilmente por qualquer pessoa.\n",
        "\n",
        "\n",
        "**Observação:** A Questão 3 é necessária para a execução da Questão 4."
      ]
    },
    {
      "cell_type": "markdown",
      "id": "3594e9a4",
      "metadata": {
        "id": "3594e9a4"
      },
      "source": [
        "### 3.1 - Leitura dos dados e realização de descrição estatística\n",
        "---"
      ]
    },
    {
      "cell_type": "markdown",
      "id": "70977955",
      "metadata": {
        "id": "70977955"
      },
      "source": [
        "A seguir, o dataframe já estará montado pelo método `pd.read_csv()` da biblioteca `pandas`, a partir da execução da célula.\n",
        "\n",
        "Dica: Você pode acessar a documentação da biblioteca `pandas` [clicando aqui](https://pandas.pydata.org/docs/getting_started/index.html#getting-started). Após o processamento do dataframe, você terá de realizar uma descrição estatística dos dados."
      ]
    },
    {
      "cell_type": "code",
      "execution_count": null,
      "id": "7b8143d6",
      "metadata": {
        "id": "7b8143d6"
      },
      "outputs": [],
      "source": [
        "import pandas as pd"
      ]
    },
    {
      "cell_type": "code",
      "execution_count": null,
      "id": "5fe23f23",
      "metadata": {
        "id": "5fe23f23"
      },
      "outputs": [],
      "source": [
        "df = pd.read_csv('https://raw.githubusercontent.com/dsfwrshp/notebookfinal/refs/heads/main/2025.2/data/california.csv')\n",
        "df"
      ]
    },
    {
      "cell_type": "markdown",
      "id": "e41adbef",
      "metadata": {
        "id": "e41adbef"
      },
      "source": [
        "### 3.2 - Análise Exploratória dos Dados\n",
        "---"
      ]
    },
    {
      "cell_type": "markdown",
      "id": "02a073d9",
      "metadata": {
        "id": "02a073d9"
      },
      "source": [
        "Antes de qualquer análise mais aprofundada sobre um conjunto de dados, é necessário ter uma noção de como estes dados estão distribuídos, que valores são mais comuns entre os dados, o quão dispersos estão e se existem valores que se distinguem do dataset, de uma maneira geral. Todas estas informações são classificadas como estatísticas, e em ciência de dados é preciso ter ideias claras sobre a forma do conjunto de dados em questão, utilizando-se majoritariamente da visão como forma de comunicar e representar as estatísticas elementares destes dados. Realize uma análise exploratória sobre os dados deste problema, apresentando as medidas de localização, dispersão e os valores que não se repetem em cada coluna, utilizando a biblioteca de visualização dedados que preferir para criar gráficos que representem estas medidas.\n",
        "\\\n",
        "Tente conferir também que colunas precisam de tratamento de dados, que tratamentos seriam esses e por qual motivo."
      ]
    },
    {
      "cell_type": "markdown",
      "id": "8fceeb65",
      "metadata": {
        "id": "8fceeb65"
      },
      "source": [
        "_Sua resposta aqui_\n"
      ]
    },
    {
      "cell_type": "code",
      "execution_count": null,
      "id": "201dd6e1",
      "metadata": {
        "id": "201dd6e1"
      },
      "outputs": [],
      "source": [
        "# Seu código aqui\n",
        "# Passo 1 - Importar mais algumas bibliotecas que seram uteis:\n",
        "import numpy as np\n",
        "import matplotlib.pyplot as plt"
      ]
    },
    {
      "cell_type": "code",
      "source": [
        "# Passo 2 - Olhar o Básico do Dataset:\n",
        "print('Dimensões:', df.shape)\n",
        "df.head()\n",
        "\n",
        "df.info()\n",
        "print('\\nDuplicatas:', df.duplicated().sum())"
      ],
      "metadata": {
        "id": "sTWTwh-0Iejo"
      },
      "id": "sTWTwh-0Iejo",
      "execution_count": null,
      "outputs": []
    },
    {
      "cell_type": "code",
      "source": [
        "# A Partir do Passo 2, podemos analisar que o Dataset contem 20640 linhas e 10 colunas, e não existem duplicatas"
      ],
      "metadata": {
        "id": "nulO9fZ5J0JD"
      },
      "id": "nulO9fZ5J0JD",
      "execution_count": null,
      "outputs": []
    },
    {
      "cell_type": "code",
      "source": [
        "# Passo 3 - Nulos:\n",
        "df.isna().sum()"
      ],
      "metadata": {
        "id": "-TNaQkN0KZuu"
      },
      "id": "-TNaQkN0KZuu",
      "execution_count": null,
      "outputs": []
    },
    {
      "cell_type": "code",
      "source": [
        "# No Passo 3 podemos observar que o Dataset contem 207 valores nulos na coluna 'total_bedrooms'."
      ],
      "metadata": {
        "id": "A2I6NLC-L2qb"
      },
      "id": "A2I6NLC-L2qb",
      "execution_count": null,
      "outputs": []
    },
    {
      "cell_type": "code",
      "source": [
        "# Passo 4 - Medidas simples nas colunas numéricas:\n",
        "num_cols = df.select_dtypes(include='number').columns     # -> Pegar só os nomes das colunas numericas\n",
        "df[num_cols].describe()                                   # -> média, desvio, min, quartis, max"
      ],
      "metadata": {
        "id": "jUeILmyKMQ-A"
      },
      "id": "jUeILmyKMQ-A",
      "execution_count": null,
      "outputs": []
    },
    {
      "cell_type": "code",
      "source": [
        "# Passo 5 - Valores que não se repetem em cada coluna:\n",
        "for c in df.columns:\n",
        "  contagens = df[c].value_counts(dropna=True)\n",
        "  nao_repetem = (contagens == 1).sum()\n",
        "  print(c, '->', int(nao_repetem))            # Nome da coluna e a contagem"
      ],
      "metadata": {
        "id": "_lyulJ5MNX7k"
      },
      "id": "_lyulJ5MNX7k",
      "execution_count": null,
      "outputs": []
    },
    {
      "cell_type": "code",
      "source": [
        "# Passo 6 - Histograma:\n",
        "\"\"\"\n",
        "Tenta converter todas as colunas possiveis para numerico.\n",
        "Lista e plota todas as colunas numericas.\n",
        "\"\"\"\n",
        "for c in df.columns:\n",
        "  df[c] = pd.to_numeric(df[c], errors='coerce')       # -> 'coerce' = transformar não-numericos em NaN\n",
        "\n",
        "num_cols = df.select_dtypes(include='number').columns\n",
        "for c in num_cols:\n",
        "  df[c].plot(kind='hist', bins=50)\n",
        "  plt.title(f'Histograma da coluna {c}')\n",
        "  plt.xlabel(c); plt.ylabel('Frequência')\n",
        "  plt.show()"
      ],
      "metadata": {
        "id": "AHNNIa_4PL-Q"
      },
      "id": "AHNNIa_4PL-Q",
      "execution_count": null,
      "outputs": []
    },
    {
      "cell_type": "code",
      "source": [
        "# Passo 6 - Observações:\n",
        "\"\"\"\n",
        "O que podemos observar no passo 6 com os histogramas é :\n",
        "  - total_rooms/total_bedrooms/population = A maioria dos bairros tem números moderados de cômodos e pessoas.\n",
        "  - longitude/latitude = Os pontos se concentram em algumas faixas, não estão espalhados por todo o mapa.\n",
        "\"\"\""
      ],
      "metadata": {
        "id": "AcQBRAejTt6v"
      },
      "id": "AcQBRAejTt6v",
      "execution_count": null,
      "outputs": []
    },
    {
      "cell_type": "code",
      "source": [
        "# Passo 7 - Boxplot:\n",
        "for c in num_cols:                    # num_cols => só as colunas numericas\n",
        "  if df[c].notna().sum() == 0:\n",
        "    continue\n",
        "\n",
        "  df.boxplot(column=c)\n",
        "  plt.title(f'Boxplot da coluna {c}')\n",
        "  plt.ylabel(c)\n",
        "  plt.show()"
      ],
      "metadata": {
        "id": "yl5AvyO_Uezv"
      },
      "id": "yl5AvyO_Uezv",
      "execution_count": null,
      "outputs": []
    },
    {
      "cell_type": "code",
      "source": [
        "# Passo 7 - Observações:\n",
        "\"\"\"\n",
        "O que podemos analisar dos bloxplots no passo 7 é:\n",
        "  - longitude/latitude = os bairros ficam concentrados em algumas partes da California.\n",
        "  - total_rooms/total_bedrooms = a maioria dos bairros tem numeros normais, existem alguns poucos bairros enormes.\n",
        "  - population = muitos bairros com população comum e poucos muito grandes.\n",
        "\"\"\""
      ],
      "metadata": {
        "id": "-7SGzm0kV3JR"
      },
      "id": "-7SGzm0kV3JR",
      "execution_count": null,
      "outputs": []
    },
    {
      "cell_type": "markdown",
      "id": "b2244b8f",
      "metadata": {
        "id": "b2244b8f"
      },
      "source": [
        "### 3.3 - Limpeza dos dados\n",
        "---"
      ]
    },
    {
      "cell_type": "markdown",
      "id": "680eafce",
      "metadata": {
        "id": "680eafce"
      },
      "source": [
        "Após verificar o dataset acima e a relação das descrições com os valores existentes, realize o processo de limpeza dos dados, verificando possíveis inconsistências entre as linhas ou colunas do dataset. Mais uma vez, a leitura da documentação do `pandas` é uma excelente iniciativa.\n",
        "\\\n",
        "Sugestão: Criar um padrão de formatação para o dataset, é uma boa prática."
      ]
    },
    {
      "cell_type": "code",
      "source": [
        "# Para evitar alguns erros irei recarregar do zero o Dataset:\n",
        "\n",
        "df_limpo = pd.read_csv('https://raw.githubusercontent.com/dsfwrshp/notebookfinal/refs/heads/main/2025.2/data/california.csv')\n",
        "df_limpo"
      ],
      "metadata": {
        "id": "Zgxa9s1ZM_Jp"
      },
      "id": "Zgxa9s1ZM_Jp",
      "execution_count": null,
      "outputs": []
    },
    {
      "cell_type": "markdown",
      "id": "7eaf9c65",
      "metadata": {
        "id": "7eaf9c65"
      },
      "source": [
        "_Sua resposta aqui_"
      ]
    },
    {
      "cell_type": "code",
      "source": [
        "# Seu código aqui\n",
        "# Passo 1 - Padronizar os nomes das colunas:\n",
        "df_limpo.columns = df_limpo.columns.str.strip().str.lower().str.replace(r'\\s+', '_', regex=True)\n",
        "df_limpo.columns"
      ],
      "metadata": {
        "id": "YK1NW67fFVz1"
      },
      "id": "YK1NW67fFVz1",
      "execution_count": null,
      "outputs": []
    },
    {
      "cell_type": "code",
      "source": [
        "# Passo 2 - Padronizar a coluna categorica ('ocean_proximity'):\n",
        "df_limpo['ocean_proximity'] = df_limpo['ocean_proximity'].astype(str).str.strip().str.lower()"
      ],
      "metadata": {
        "id": "wiMBPo64HaIY"
      },
      "id": "wiMBPo64HaIY",
      "execution_count": null,
      "outputs": []
    },
    {
      "cell_type": "code",
      "source": [
        "# Passo 3 = Tratar numeros com virgula:\n",
        "df_limpo['housing_median_age'] = pd.to_numeric(df_limpo['housing_median_age'].astype(str).str.replace(',', '.'), errors='coerce')\n",
        "df_limpo['households'] = pd.to_numeric(df_limpo['households'].astype(str).str.replace(' ', ''), errors='coerce')\n",
        "df_limpo['median_income'] = pd.to_numeric(df_limpo['median_income'].astype(str).str.replace(',', '.'), errors='coerce')\n",
        "df_limpo['median_house_value'] = pd.to_numeric(df_limpo['median_house_value'].astype(str).str.replace(',', '.'), errors='coerce')"
      ],
      "metadata": {
        "id": "ceIXF2FkIRFh"
      },
      "id": "ceIXF2FkIRFh",
      "execution_count": null,
      "outputs": []
    },
    {
      "cell_type": "code",
      "source": [
        "# Passo 4 - Tratar valores que estão faltando:\n",
        "df_limpo['total_bedrooms'] = df_limpo['total_bedrooms'].fillna(df_limpo['total_bedrooms'].median())\n",
        "\n",
        "for c in ['housing_median_age', 'households', 'median_income', 'median_house_value']:\n",
        "  if df_limpo[c].isna().any():\n",
        "    df_limpo[c] = df_limpo[c].fillna(df_limpo[c].median())"
      ],
      "metadata": {
        "id": "XaInkX6iKzZO"
      },
      "id": "XaInkX6iKzZO",
      "execution_count": null,
      "outputs": []
    },
    {
      "cell_type": "code",
      "source": [
        "# Resultado final:\n",
        "print(df_limpo.info())\n",
        "print('================================')\n",
        "print(df_limpo.isnull().sum())\n",
        "print('================================')\n",
        "print(df_limpo.head())"
      ],
      "metadata": {
        "id": "FVLi0hU6LP9i"
      },
      "id": "FVLi0hU6LP9i",
      "execution_count": null,
      "outputs": []
    },
    {
      "cell_type": "markdown",
      "id": "faa775ed",
      "metadata": {
        "id": "faa775ed"
      },
      "source": [
        "### 3.4 - Feature Engineering e Dados Categóricos\n",
        "---"
      ]
    },
    {
      "cell_type": "markdown",
      "id": "c4029f27",
      "metadata": {
        "id": "c4029f27"
      },
      "source": [
        "3.4.1 - Em um problema de _Data Science_, é comum nos depararmos com um dataset cujos atributos não esclareçam com efetividade o comportamento de um dado fenômeno. Desta forma, cientistas de dados devem estar aptos a manipular atributos existentes e assim definir novos atributos, de acordo com os critérios estabelecidos. Este processo é descrito como _Feature Engineering_, e trata apenas da manipulação algébrica e/ou lógica de atributos (colunas, no contexto prático) com o intuito de alimentar o seu modelo de Machine Learning com dados relevantes à resolução do problema.\n",
        "Nesta etapa, você deverá utilizar sua intuição aliando criatividade para decidir como novos atributos podem ser definidos, a partir dos dados que você já possui."
      ]
    },
    {
      "cell_type": "markdown",
      "id": "68ff46c9",
      "metadata": {
        "id": "68ff46c9"
      },
      "source": [
        "Sugestão: Veja se você pode associar valores de uma coluna a outra para criar uma nova e reduzir a dimensão do dataset."
      ]
    },
    {
      "cell_type": "markdown",
      "source": [],
      "metadata": {
        "id": "tROTrkMzsdZE"
      },
      "id": "tROTrkMzsdZE"
    },
    {
      "cell_type": "markdown",
      "id": "dca68366",
      "metadata": {
        "id": "dca68366"
      },
      "source": [
        "_Sua resposta aqui_"
      ]
    },
    {
      "cell_type": "code",
      "execution_count": null,
      "id": "71b04443",
      "metadata": {
        "id": "71b04443"
      },
      "outputs": [],
      "source": [
        "# Seu código aqui\n",
        "\"\"\"\n",
        "Vamos criar 3 novas colunas para analise:\n",
        "  - people_per_household = população / domicílios.\n",
        "  - rooms_per_household = total de quartos / domicílios.\n",
        "  - rooms_per_person = total de quartos / população.\n",
        "\"\"\"\n",
        "# 1 - Coluna - pessoas por domicílio:\n",
        "df_limpo['people_per_household'] = df_limpo['population'] / df_limpo['households']\n",
        "\n",
        "print(df_limpo['people_per_household'].describe())"
      ]
    },
    {
      "cell_type": "code",
      "source": [
        "# 2 - Coluna - quartos por domicílio:\n",
        "df_limpo['rooms_per_household'] = df_limpo['total_rooms'] / df_limpo['households']\n",
        "\n",
        "print(df_limpo['rooms_per_household'].describe())"
      ],
      "metadata": {
        "id": "qfZj112hRI1Q"
      },
      "id": "qfZj112hRI1Q",
      "execution_count": null,
      "outputs": []
    },
    {
      "cell_type": "code",
      "source": [
        "# 3 - Coluna - quartos por pessoa:\n",
        "df_limpo['rooms_per_person'] = df_limpo['total_rooms'] / df_limpo['population']\n",
        "\n",
        "print(df_limpo['rooms_per_person'].describe())"
      ],
      "metadata": {
        "id": "ftmu904GRTmU"
      },
      "id": "ftmu904GRTmU",
      "execution_count": null,
      "outputs": []
    },
    {
      "cell_type": "code",
      "source": [
        "# Resultado no dataset:\n",
        "df_limpo.head()"
      ],
      "metadata": {
        "id": "8tCINJa8Rt0f"
      },
      "id": "8tCINJa8Rt0f",
      "execution_count": null,
      "outputs": []
    },
    {
      "cell_type": "markdown",
      "id": "461e83b8",
      "metadata": {
        "id": "461e83b8"
      },
      "source": [
        "3.4.2 - Em poucos termos, algoritmos de Machine Learning só funcionam com valores numéricos. Isto significa que antes de treinar qualquer modelo, deve-se transformar os dados categóricos em dados numéricos. Encontre uma forma de *codificar* as colunas de dados categóricos, de forma que seu modelo consiga interpretar todos os atributos não-numéricos como numéricos."
      ]
    },
    {
      "cell_type": "markdown",
      "id": "03522f6c",
      "metadata": {
        "id": "03522f6c"
      },
      "source": [
        "_Sua resposta aqui_"
      ]
    },
    {
      "cell_type": "code",
      "execution_count": null,
      "id": "2ed836c6",
      "metadata": {
        "id": "2ed836c6"
      },
      "outputs": [],
      "source": [
        "# Seu código aqui\n",
        "\"\"\"\n",
        "No nosso dataset a unica coluna categorica é a 'ocean_proximity' que traz valores como:\n",
        "   - near bay, inland, etc.\n",
        "\n",
        "Vamos transformá-la em números para podermos treinar o modelo, utilizando a tecnica One-Hot Enconding,\n",
        "criando uma no coluna para cada categoria possivel, marcando 1 quando o registro pertence aquela categoria e,\n",
        "0 caso contrario.\n",
        "\"\"\""
      ]
    },
    {
      "cell_type": "code",
      "source": [
        "# Transformar cada categoria em uma coluna binaria 0 ou 1:\n",
        "df_numerico = pd.get_dummies(df_limpo, columns=['ocean_proximity'])\n",
        "df_numerico.info()\n",
        "df_numerico.head()"
      ],
      "metadata": {
        "id": "WgXW9HR7SuJZ"
      },
      "id": "WgXW9HR7SuJZ",
      "execution_count": null,
      "outputs": []
    },
    {
      "cell_type": "markdown",
      "id": "d8c61652",
      "metadata": {
        "id": "d8c61652"
      },
      "source": [
        "## ⚠️ **Importante** ⚠️\n",
        "---\n",
        "#### As questões a seguir são um pouco mais complexas e podem requerer um tempo maior, leia os enunciados e responda na ordem que preferir, lembre-se que não é preciso fazer se não conseguir e de descrever o que pensaram, como fizeram, ou como teriam feito para resolvê-las.\n",
        "\n",
        "#### Se precisar, consulte os instrutores e monitores."
      ]
    },
    {
      "cell_type": "markdown",
      "id": "15b01f7e",
      "metadata": {
        "id": "15b01f7e"
      },
      "source": [
        "# Questão 4: Machine Learning\n",
        "---"
      ]
    },
    {
      "cell_type": "markdown",
      "id": "3c52ebb7",
      "metadata": {
        "id": "3c52ebb7"
      },
      "source": [
        "**Descrição:**\n",
        "\n",
        "Nesta questão, você irá aplicar conceitos de Aprendizado Supervisionado utilizando dois tipos diferentes de abordagem: Regressão e Classificação.\n",
        "\n",
        "O objetivo é compreender como você toma decisões ao montar um pipeline de Machine Learning, desde a escolha do atributo de saída até a avaliação dos resultados obtidos.\n",
        "\n",
        "\n",
        "**Tarefa:**\n",
        "\n",
        "Utilizando o dataset disponibilizado na Questão 3, realize as seguintes etapas:\n",
        "- Escolha um atributo de saída\n",
        "- Faça a preparação adequada para o dataset\n",
        "- Treine o modelo como problema de Regressão\n",
        "- Treine o modelo como problema de Classificação\n",
        "- Interprete os resultados e apresente métricas de avaliação\n",
        "\n",
        "\n",
        "> Observação:\n",
        "A biblioteca utilizada, o modelo escolhido, o pipeline de pré-processamento e a justificativa para escolha do atributo de saída ficam totalmente a critério do candidato.\n",
        "\n",
        "\n",
        "---\n",
        "\n",
        "Objetivo da Tarefa\n",
        "\n",
        "Esta tarefa busca avaliar sua capacidade de:\n",
        "\n",
        "Tomar decisões fundamentadas durante o desenvolvimento de soluções de Machine Learning;\n",
        "\n",
        "Justificar a escolha de variáveis e técnicas utilizadas;\n",
        "\n",
        "Avaliar e interpretar os resultados de forma crítica.\n",
        "\n",
        "---\n",
        "\n",
        "Recursos Sugeridos\n",
        "\n",
        "As aulas da Professora Thaís disponibilizadas no início do notebook são um excelente ponto de partida para essa atividade.\n",
        "\n",
        "Documentações específicas de bibliotecas e modelos também foram fornecidas e podem (e devem) ser consultadas durante o desenvolvimento da solução."
      ]
    },
    {
      "cell_type": "markdown",
      "id": "1accc89a",
      "metadata": {
        "id": "1accc89a"
      },
      "source": [
        "## Preparando o dataframe\n",
        "\n",
        "Faça as manipulações necessárias no dataframe para poder utilizá-lo nos modelos.\n",
        "\n",
        "Dica: Limpe os dados e depois separe-os em pré-processamentos diferentes para cada tipo de problema."
      ]
    },
    {
      "cell_type": "code",
      "execution_count": null,
      "id": "760dd274",
      "metadata": {
        "id": "760dd274"
      },
      "outputs": [],
      "source": [
        "# Seu código aqui\n",
        "\n",
        "\"\"\"\n",
        "Vamos preparar o dataframe, limpo e com dois pré-processamentos:\n",
        "  - Modelos lineares (com escala)\n",
        "  - Modelos de árvore (sem escala)\n",
        "\"\"\"\n",
        "\n",
        "# Passo 1 - Importações:\n",
        "import pandas as pd\n",
        "from sklearn.model_selection import train_test_split\n",
        "from sklearn.preprocessing import StandardScaler"
      ]
    },
    {
      "cell_type": "code",
      "source": [
        "# Passo 2 - Preparar o dataset\n",
        "df_ml = df_limpo.copy()"
      ],
      "metadata": {
        "id": "F9yIYAT4Ydqm"
      },
      "id": "F9yIYAT4Ydqm",
      "execution_count": null,
      "outputs": []
    },
    {
      "cell_type": "code",
      "source": [
        "# Passo 3 - Garantir que as colunas dummies (bool) virem 0/1:\n",
        "bool_cols = [c for c in df_ml.columns if df_ml[c].dtype == 'bool']\n",
        "df_ml[bool_cols] = df_ml[bool_cols].astype(int)"
      ],
      "metadata": {
        "id": "a7SJfI27Zrqc"
      },
      "id": "a7SJfI27Zrqc",
      "execution_count": null,
      "outputs": []
    },
    {
      "cell_type": "code",
      "source": [
        "# Passo 4 - Alvos:\n",
        "y_reg = df_ml['median_house_value']         # Regressão\n",
        "med = y_reg.median()\n",
        "\n",
        "y_clf = (y_reg >= med).astype(int)          # Classificação"
      ],
      "metadata": {
        "id": "ICcV6XieZ8aW"
      },
      "id": "ICcV6XieZ8aW",
      "execution_count": null,
      "outputs": []
    },
    {
      "cell_type": "code",
      "source": [
        "# Passo 5 - Features(x):\n",
        "X = df_ml.drop(columns=['median_house_value'])"
      ],
      "metadata": {
        "id": "BDi-4IHiaRaU"
      },
      "id": "BDi-4IHiaRaU",
      "execution_count": null,
      "outputs": []
    },
    {
      "cell_type": "code",
      "source": [
        "# Passo 6 - Split unico:\n",
        "X_train, X_test, yreg_train, yreg_test = train_test_split(X, y_reg, test_size=0.2, random_state=42)\n",
        "_, _, ycls_train, ycls_test = train_test_split(X, y_clf, test_size=0.2, random_state=42)"
      ],
      "metadata": {
        "id": "oi1iy1d_aY9Y"
      },
      "id": "oi1iy1d_aY9Y",
      "execution_count": null,
      "outputs": []
    },
    {
      "cell_type": "code",
      "source": [
        "# Passo 7 - Pré-processamento para modelos Lineares:\n",
        "num_cols = [c for c in X_train.columns\n",
        "            if (X_train[c].dtype != 'int64' and X_train[c].dtype != 'int32')\n",
        "            and not c.startswith('ocean_proximity')]\n",
        "\n",
        "scaler = StandardScaler()\n",
        "X_train_linear = X_train.copy()\n",
        "X_test_linear = X_test.copy()\n",
        "\n",
        "X_train_linear[num_cols] = scaler.fit_transform(X_train[num_cols])\n",
        "X_test_linear[num_cols] = scaler.transform(X_test[num_cols])"
      ],
      "metadata": {
        "id": "o-V1ZJVtauOj"
      },
      "id": "o-V1ZJVtauOj",
      "execution_count": null,
      "outputs": []
    },
    {
      "cell_type": "code",
      "source": [
        "# Passo 8 - Pré-processamento para modelos de Arvore:\n",
        "X_train_tree = X_train.copy()\n",
        "X_test_tree = X_test.copy()"
      ],
      "metadata": {
        "id": "glu7xQplbZgP"
      },
      "id": "glu7xQplbZgP",
      "execution_count": null,
      "outputs": []
    },
    {
      "cell_type": "code",
      "source": [
        "# Passo 9 - Checagens simples:\n",
        "print('Linear ->', X_train_linear.shape, X_test_linear.shape)\n",
        "print('Tree ->', X_train_tree.shape, X_test_tree.shape)\n",
        "print('Nulos (linear treino) ->', X_train_linear.isna().sum().sum())\n",
        "print('Nulos (tree treino) ->', X_train_tree.isna().sum().sum())"
      ],
      "metadata": {
        "id": "9CyBfEVXbhPm"
      },
      "id": "9CyBfEVXbhPm",
      "execution_count": null,
      "outputs": []
    },
    {
      "cell_type": "markdown",
      "id": "46d4cc59",
      "metadata": {
        "id": "46d4cc59"
      },
      "source": [
        "---\n",
        "\n",
        "Problema de Regressão\n",
        "\n",
        "No problema de Regressão, o modelo deve ser treinado para prever um valor que pertence a um domínio contínuo (números reais). Ou seja, o objetivo é estimar um valor numérico com base nas variáveis de entrada (features) selecionadas.\n",
        "\n",
        "Instruções:\n",
        "\n",
        "Escolha um atributo do dataset como variável de saída (target) para o problema de regressão.\n",
        "\n",
        "Construa um pipeline de tratamento de dados (se necessário) e treine um modelo adequado para esse tipo de problema.\n",
        "\n",
        "Calcule e apresente as principais métricas de avaliação do modelo ao final do processo.\n",
        "\n",
        "\n",
        "\n",
        "> Dica:\n",
        "Uma boa prática é escolher uma coluna do tipo numérica contínua do dataset, que possua variabilidade suficiente para justificar o uso de regressão.\n",
        "\n",
        "\n",
        "\n",
        "\n",
        "---\n",
        "\n",
        "Recursos Sugeridos:\n",
        "\n",
        "Documentação oficial da biblioteca Scikit-Learn (sklearn)"
      ]
    },
    {
      "cell_type": "code",
      "execution_count": null,
      "id": "b299b5f0",
      "metadata": {
        "id": "b299b5f0"
      },
      "outputs": [],
      "source": [
        "# Seu código aqui\n",
        "\"\"\"\n",
        "Target escolhido -> median_house_value (preço da casa)\n",
        "Modelo escolhido -> Linear Regression\n",
        "Treino           -> Fit\n",
        "Teste            -> Predict\n",
        "Métricas:\n",
        "  - R²: fração da variação explicada (quanto mais perto de 1, melhor).\n",
        "  - MAE: erro médio absoluto, em unidades do preço.\n",
        "  - RMSE: raiz do erro quadrático médio (penaliza mais erros grandes).\n",
        "\"\"\""
      ]
    },
    {
      "cell_type": "code",
      "source": [
        "# Passo 1 - Importações:\n",
        "from sklearn.linear_model import LinearRegression\n",
        "from sklearn.metrics import r2_score, mean_absolute_error, mean_squared_error"
      ],
      "metadata": {
        "id": "Y8zBaSvHdQWT"
      },
      "id": "Y8zBaSvHdQWT",
      "execution_count": null,
      "outputs": []
    },
    {
      "cell_type": "code",
      "source": [
        "# Passo 2 - Modelo basico:\n",
        "reg = LinearRegression()"
      ],
      "metadata": {
        "id": "dsjKx3kHddRD"
      },
      "id": "dsjKx3kHddRD",
      "execution_count": null,
      "outputs": []
    },
    {
      "cell_type": "code",
      "source": [
        "# Passo 3 - Treinar:\n",
        "# Garantir que não existe mais coluna de texto:\n",
        "if 'ocean_proximity' in X_train.columns:\n",
        "  X_train = pd.get_dummies(X_train, columns=['ocean_proximity'], dtype=int)\n",
        "  X_test = pd.get_dummies(X_test, columns=['ocean_proximity'], dtype=int)\n",
        "\n",
        "# Forçar booleanos a virarem inteiro:\n",
        "bool_cols = [c for c in X_train.columns if X_train[c].dtype == 'bool']\n",
        "X_train[bool_cols] = X_train[bool_cols].astype(int)\n",
        "X_test[bool_cols] = X_test[bool_cols].astype(int)\n",
        "\n",
        "# Reaplicar escala só nos numericos:\n",
        "num_cols = [c for c in X_train.columns if not c.startswith('ocean_proximity')]\n",
        "scaler = StandardScaler()\n",
        "X_train_linear = X_train.copy()\n",
        "X_test_linear = X_test.copy()\n",
        "\n",
        "X_train_linear[num_cols] = scaler.fit_transform(X_train[num_cols])\n",
        "X_test_linear[num_cols] = scaler.transform(X_test[num_cols])\n",
        "\n",
        "reg.fit(X_train_linear, yreg_train)"
      ],
      "metadata": {
        "id": "q9DxcvrVdicl"
      },
      "id": "q9DxcvrVdicl",
      "execution_count": null,
      "outputs": []
    },
    {
      "cell_type": "code",
      "source": [
        "# Resultados:\n",
        "y_pred = reg.predict(X_test_linear)\n",
        "print(y_pred[:5])\n",
        "\n",
        "print(\"MAE:\", mean_absolute_error(yreg_test, y_pred))\n",
        "print(\"RMSE:\", mean_squared_error(yreg_test, y_pred) ** 0.5)\n",
        "print(\"R²:\", r2_score(yreg_test, y_pred))"
      ],
      "metadata": {
        "id": "ev9K0fH5e96D"
      },
      "id": "ev9K0fH5e96D",
      "execution_count": null,
      "outputs": []
    },
    {
      "cell_type": "markdown",
      "id": "ceac7f23",
      "metadata": {
        "id": "ceac7f23"
      },
      "source": [
        "---\n",
        "\n",
        "Problema de Classificação\n",
        "\n",
        "No problema de Classificação, o modelo deve ser treinado para prever uma categoria (classe) discreta como saída, ou seja, o valor previsto pertence a um conjunto finito de possíveis rótulos.\n",
        "\n",
        "Instruções:\n",
        "\n",
        "Escolha um atributo categórico do dataset como variável de saída (target) para o problema de classificação.\n",
        "\n",
        "Construa um pipeline de tratamento de dados (se necessário) e treine um modelo adequado para esse tipo de problema.\n",
        "\n",
        "Calcule e apresente as principais métricas de avaliação do modelo ao final do processo.\n",
        "\n",
        "> Dica:\n",
        "Uma boa prática é escolher uma coluna que possua duas ou mais categorias bem definidas (problema binário ou multiclasse), garantindo que a classificação seja significativa e balanceada.\n",
        "\n",
        "\n",
        "\n",
        "\n",
        "---\n",
        "\n",
        "Recursos Sugeridos:\n",
        "\n",
        "Documentação oficial da biblioteca Scikit-Learn (sklearn)"
      ]
    },
    {
      "cell_type": "code",
      "execution_count": null,
      "id": "d33a8cec",
      "metadata": {
        "id": "d33a8cec"
      },
      "outputs": [],
      "source": [
        "# Seu código aqui\n",
        "\"\"\"\n",
        "Alvo   -> high_price = 1 se median_house_value >= mediana, senão 0.\n",
        "Modelo -> LogisticRegression\n",
        "\"\"\""
      ]
    },
    {
      "cell_type": "code",
      "source": [
        "# Passo 1 - Importações:\n",
        "from sklearn.linear_model import LogisticRegression\n",
        "from sklearn.metrics import accuracy_score, precision_score, recall_score, f1_score, confusion_matrix, classification_report\n",
        "\n",
        "clf = LogisticRegression(max_iter=1000, class_weight='balanced')\n",
        "clf.fit(X_train_linear, ycls_train)\n",
        "\n",
        "y_pred = clf.predict(X_test_linear)"
      ],
      "metadata": {
        "id": "uNag1xjwgF0D"
      },
      "id": "uNag1xjwgF0D",
      "execution_count": null,
      "outputs": []
    },
    {
      "cell_type": "code",
      "source": [
        "# Passo 2 - Métricas principais:\n",
        "acc = accuracy_score(ycls_test, y_pred)\n",
        "pre = precision_score(ycls_test, y_pred)\n",
        "rec = recall_score(ycls_test, y_pred)\n",
        "f1 = f1_score(ycls_test, y_pred)\n",
        "\n",
        "print(\"[Classificação] Resultados:\")\n",
        "print(\"Acurácia :\", round(acc, 4))\n",
        "print(\"Precisão :\", round(pre, 4))\n",
        "print(\"Recall   :\", round(rec, 4))\n",
        "print(\"F1       :\", round(f1, 4))\n",
        "print(\"\\nMatriz de confusão:\\n\", confusion_matrix(ycls_test, y_pred))\n",
        "print(\"\\nRelatório:\\n\", classification_report(ycls_test, y_pred, digits=4))"
      ],
      "metadata": {
        "id": "Aqr4Vk5tgS39"
      },
      "id": "Aqr4Vk5tgS39",
      "execution_count": null,
      "outputs": []
    },
    {
      "cell_type": "code",
      "source": [
        "\"\"\"\n",
        "Informações:\n",
        "  O modelo está equilibrado entre precisão e recall (valores próximos) → bom sinal.\n",
        "    - Matriz de confusão mostra poucos erros relativos ao total (4128 amostras):\n",
        "    - Preditos 0 mas eram 1: 350 (falsos negativos)\n",
        "    - Preditos 1 mas eram 0: 311 (falsos positivos)\n",
        "\"\"\""
      ],
      "metadata": {
        "id": "LC0rjL0RhHvp"
      },
      "id": "LC0rjL0RhHvp",
      "execution_count": null,
      "outputs": []
    },
    {
      "cell_type": "markdown",
      "id": "a76a619b",
      "metadata": {
        "id": "a76a619b"
      },
      "source": [
        "# Questão 5: Web Scraping de Quotes\n",
        "---"
      ]
    },
    {
      "cell_type": "markdown",
      "source": [
        "## Introdução\n",
        "\n",
        "**Web Scraping** é a técnica de extrair dados de páginas da web de forma automatizada, usando código.  \n",
        "Na prática, utilizamos bibliotecas como requests (para fazer a requisição da página) e BeautifulSoup (para analisar o HTML e buscar as informações que queremos).\n",
        "\n",
        "Neste exercício, você vai praticar web scraping usando o site [Quotes to Scrape](https://quotes.toscrape.com/), criado justamente para treinar raspagem de dados."
      ],
      "metadata": {
        "id": "yOZsl1p0kD5J"
      },
      "id": "yOZsl1p0kD5J"
    },
    {
      "cell_type": "markdown",
      "source": [
        "## Instruções:\n",
        "1. Acesse a página inicial do site [https://quotes.toscrape.com/](https://quotes.toscrape.com/).  \n",
        "2. Extraia todas as **quotes (frases)** exibidas na primeira página.  \n",
        "3. Para cada quote, exiba também o **autor**.  \n",
        "4. Imprima o resultado na tela de forma organizada, no seguinte formato: </br>\n",
        "  \"Quote\" — Autor\n",
        "\n",
        "## Dicas:\n",
        "- Use a biblioteca requests para obter o conteúdo da página.\n",
        "- Use a biblioteca BeautifulSoup para analisar o HTML e localizar as tags que contêm as quotes e os autores.\n",
        "- Use o \"Inspecionar elemento\" para procurar as classes de HTML nas quais as frases e nomes de autor estão.\n",
        "- É encorajado o uso das documentações das bibliotecas mencionadas. </br>\n",
        "  - Documentação do BeautifulSoup: https://tedboy.github.io/bs4_doc/\n",
        "  - Documentação do requests: https://requests.readthedocs.io/en/latest/\n",
        "- É permitido o uso de tutoriais da internet.\n",
        "- Desejável/Diferencial: Comente seu código, explicando o processo e raciocínio."
      ],
      "metadata": {
        "id": "yvqW98aFkGjw"
      },
      "id": "yvqW98aFkGjw"
    },
    {
      "cell_type": "code",
      "source": [
        "# Instalação das bibliotecas\n",
        "!pip install requests beautifulsoup4"
      ],
      "metadata": {
        "id": "01Vr3HdXkMAP"
      },
      "id": "01Vr3HdXkMAP",
      "execution_count": null,
      "outputs": []
    },
    {
      "cell_type": "code",
      "source": [
        "# Passo 1 - Imports:\n",
        "import requests\n",
        "from bs4 import BeautifulSoup"
      ],
      "metadata": {
        "id": "fei03N_vzzo6"
      },
      "id": "fei03N_vzzo6",
      "execution_count": null,
      "outputs": []
    },
    {
      "cell_type": "code",
      "source": [
        "# Seu código aqui\n",
        "# Passo 1 - Baixar o html da pagina:\n",
        "url = \"https://quotes.toscrape.com/\"\n",
        "resp = requests.get(url)\n",
        "resp.raise_for_status()"
      ],
      "metadata": {
        "id": "qIpDh1k_kM13"
      },
      "id": "qIpDh1k_kM13",
      "execution_count": null,
      "outputs": []
    },
    {
      "cell_type": "code",
      "source": [
        "# Passo 2 - Parsear o html:\n",
        "soup = BeautifulSoup(resp.text, \"html.parser\")"
      ],
      "metadata": {
        "id": "2bAC07L6zrBV"
      },
      "id": "2bAC07L6zrBV",
      "execution_count": null,
      "outputs": []
    },
    {
      "cell_type": "code",
      "source": [
        "# Passo 3 - Achar cada bloco de citação na pagina:\n",
        "blocos = soup.select(\"div.quote\")"
      ],
      "metadata": {
        "id": "OuyUMG3Gz8OC"
      },
      "id": "OuyUMG3Gz8OC",
      "execution_count": null,
      "outputs": []
    },
    {
      "cell_type": "code",
      "source": [
        "# Passo 4 - Pegar a frase e o autor:\n",
        "for b in blocos:\n",
        "    texto = b.select_one(\"span.text\").get_text(strip=True)\n",
        "    autor = b.select_one(\"small.author\").get_text(strip=True)\n",
        "\n",
        "    # Padronizar para aspas simples:\n",
        "    texto_limpo = texto.strip('“”\"')"
      ],
      "metadata": {
        "id": "VNTlhYzp0Eqg"
      },
      "id": "VNTlhYzp0Eqg",
      "execution_count": null,
      "outputs": []
    },
    {
      "cell_type": "code",
      "source": [
        "# Imprima os resultados aqui\n",
        "print(f'\"{texto_limpo}\" - {autor}')"
      ],
      "metadata": {
        "id": "SQxZ4C3IkMpr"
      },
      "id": "SQxZ4C3IkMpr",
      "execution_count": null,
      "outputs": []
    },
    {
      "cell_type": "markdown",
      "id": "e601aa6b",
      "metadata": {
        "id": "e601aa6b"
      },
      "source": [
        "# Questão 6: Visão Computacional\n",
        "---"
      ]
    },
    {
      "cell_type": "markdown",
      "id": "6c0b2e99",
      "metadata": {
        "id": "6c0b2e99"
      },
      "source": [
        "Nesta atividade, você terá a oportunidade de explorar algumas práticas fundamentais de Processamento Digital de Imagens (PDI), que desempenham um\n",
        "papel essencial na preparação de imagens para modelos de Visão Computacional. O objetivo é compreender como esses processos auxiliam os modelos a interpretar melhor as imagens, permitindo a geração de resultados mais precisos e eficientes."
      ]
    },
    {
      "cell_type": "markdown",
      "id": "7375df8d",
      "metadata": {
        "id": "7375df8d"
      },
      "source": [
        "### 6.1 - Trabalhando com imagens\n",
        "---\n",
        "\n",
        "Abaixo estão os códigos necessários para abrir e exibir uma imagem no Google Colab. Esses comandos serão utilizados nas próximas atividades para a demonstração e visualização dos resultados.\n",
        "\n",
        "Atenção: Caso o notebook seja fechado ou reiniciado, lembre-se de executar novamente as células de código para garantir o funcionamento correto!"
      ]
    },
    {
      "cell_type": "code",
      "execution_count": null,
      "id": "75f51736",
      "metadata": {
        "id": "75f51736"
      },
      "outputs": [],
      "source": [
        "from PIL import Image\n",
        "import cv2\n",
        "import requests\n",
        "import numpy as np\n",
        "import matplotlib.pyplot as plt"
      ]
    },
    {
      "cell_type": "code",
      "execution_count": null,
      "id": "e63d33f4",
      "metadata": {
        "id": "e63d33f4"
      },
      "outputs": [],
      "source": [
        "# Funções auxiliares\n",
        "\n",
        "def convert_from_cv2_to_image(cv2_image):\n",
        "    if len(cv2_image.shape) == 2:\n",
        "        return Image.fromarray(cv2_image, mode='L')\n",
        "    elif len(cv2_image.shape) == 3:\n",
        "        rgb_image = cv2.cvtColor(cv2_image, cv2.COLOR_BGR2RGB)\n",
        "        return Image.fromarray(rgb_image)\n",
        "    else:\n",
        "        return Image.fromarray(cv2_image)\n",
        "\n",
        "def convert_from_image_to_cv2(img: Image) -> np.ndarray:\n",
        "    img_array = np.asarray(img)\n",
        "    if len(img_array.shape) == 3 and img_array.shape[2] == 3:\n",
        "        img_array = cv2.cvtColor(img_array, cv2.COLOR_RGB2BGR)\n",
        "    return img_array\n",
        "\n",
        "\n",
        "def img_from_url(url):\n",
        "    img = Image.open(requests.get(url, stream=True).raw)\n",
        "    return img\n",
        "\n",
        "# Use para mostrar seus resultados, coloque a imagem original em img1 e o resultado em img2\n",
        "def plot_side_by_side(img1, img2, title1=\"Original\", title2=\"Processada\", figsize=(12, 6)):\n",
        "\n",
        "    plt.figure(figsize=figsize)\n",
        "\n",
        "    plt.subplot(1, 2, 1)\n",
        "    if isinstance(img1, Image.Image):\n",
        "        plt.imshow(img1, cmap='gray' if img1.mode == 'L' else None)\n",
        "    elif len(img1.shape) == 2:\n",
        "        plt.imshow(img1, cmap='gray')\n",
        "    else:\n",
        "        plt.imshow(img1)\n",
        "    plt.title(title1)\n",
        "    plt.axis('off')\n",
        "\n",
        "    plt.subplot(1, 2, 2)\n",
        "    if isinstance(img2, Image.Image):\n",
        "        plt.imshow(img2, cmap='gray' if img2.mode == 'L' else None)\n",
        "    elif len(img2.shape) == 2:\n",
        "        plt.imshow(img2, cmap='gray')\n",
        "    else:\n",
        "        plt.imshow(img2)\n",
        "    plt.title(title2)\n",
        "    plt.axis('off')\n",
        "\n",
        "    plt.tight_layout()\n",
        "    plt.show()"
      ]
    },
    {
      "cell_type": "code",
      "execution_count": null,
      "id": "05647d3f",
      "metadata": {
        "id": "05647d3f"
      },
      "outputs": [],
      "source": [
        "url = 'https://blog.emania.com.br/wp-content/uploads/2017/06/Albert-Einstein-principal.jpg'\n",
        "\n",
        "pil_img = img_from_url(url)\n",
        "pil_img"
      ]
    },
    {
      "cell_type": "markdown",
      "id": "2fa03504",
      "metadata": {
        "id": "2fa03504"
      },
      "source": [
        "### 6.2 - Suavização da imagem\n",
        "---\n",
        "**Descrição:**\n",
        "\\\n",
        "A suavização de imagens com o filtro Gaussiano é uma técnica utilizada para reduzir ruídos e variações abruptas de intensidade na imagem. Esse processo é útil como etapa de pré-processamento, preparando a imagem para operações posteriores, como detecção de bordas ou binarização.\n",
        "\n",
        "**Contexto:**\n",
        "\\\n",
        "Imagine, supostamente, que voce faz parte de uma operação policial e que seu objetivo é identificar um suspeito a partir da foto do seu dedo, captando sua digital e verificando no banco de dados da polícia se existe alguma digital similar.\n",
        "\n",
        "**Atividade:**\n",
        "\\\n",
        "Realize o processo de suavização da imagem utilizando a função GaussianBlur() do cv2 e mostre os resultados usando a função auxiliar plot_side_by_side().\n",
        "\n",
        "Dica: Utilize as funções auxiliares para converter a imagem para um array NumPy. Lembre-se de realizar as conversões entre os formatos de cor RGB (PIL) e BGR (OpenCV), **caso necessário**, utilizando o metodo cv2.cvtColor() ou alguma função auxiliar. Além disso, experimente ajustar os parâmetros dos métodos aplicados — isso pode melhorar significativamente o resultado final."
      ]
    },
    {
      "cell_type": "code",
      "execution_count": null,
      "id": "455c8079",
      "metadata": {
        "id": "455c8079"
      },
      "outputs": [],
      "source": [
        "# Recebe uma URL de imagem e converte para uma imagem Pillow\n",
        "url_suavizacao = \"https://p2.trrsf.com/image/fget/cf/774/0/images.terra.com/2023/10/25/1170964331-19094928125047.jpg\"\n",
        "image = img_from_url(url_suavizacao)\n",
        "image"
      ]
    },
    {
      "cell_type": "code",
      "execution_count": null,
      "id": "cc18efd3",
      "metadata": {
        "id": "cc18efd3"
      },
      "outputs": [],
      "source": [
        "# Transformar a imagem em um array do OpenCV, aplicar o filtro requisitado e exibir o resultado\n",
        "# Seu código aqui\n",
        "\n",
        "# Imagem 1 - Albert Einstein:\n",
        "# Passo 1 - Transformar PIL para OpenCV:\n",
        "cv2_image1 = convert_from_image_to_cv2(pil_img)\n",
        "gray1 = cv2.cvtColor(cv2_image1, cv2.COLOR_BGR2GRAY)"
      ]
    },
    {
      "cell_type": "code",
      "source": [
        "# Passo 2 - Suavização Gaussiana:\n",
        "blur1 = cv2.GaussianBlur(gray1, (5, 5), 1.2)"
      ],
      "metadata": {
        "id": "m5xdHsJV5ccw"
      },
      "id": "m5xdHsJV5ccw",
      "execution_count": null,
      "outputs": []
    },
    {
      "cell_type": "code",
      "source": [
        "# Passo 3 - Resultado:\n",
        "plot_side_by_side(gray1, blur1, title1='Original', title2='Gaussiana')"
      ],
      "metadata": {
        "id": "96dYCr5M54gc"
      },
      "id": "96dYCr5M54gc",
      "execution_count": null,
      "outputs": []
    },
    {
      "cell_type": "code",
      "source": [
        "# Imagem 2 - Digitais:\n",
        "# Mesmos passos:\n",
        "cv2_image2 = convert_from_image_to_cv2(image)\n",
        "gray2 = cv2.cvtColor(cv2_image2, cv2.COLOR_BGR2GRAY)\n",
        "\n",
        "blur2 = cv2.GaussianBlur(gray2, (7, 7), 1.2)\n",
        "\n",
        "plot_side_by_side(gray2, blur2, title1='Original (cinza)', title2='Gaussiana')"
      ],
      "metadata": {
        "id": "B7-m3-dN7A7y"
      },
      "id": "B7-m3-dN7A7y",
      "execution_count": null,
      "outputs": []
    },
    {
      "cell_type": "markdown",
      "id": "da908dcd",
      "metadata": {
        "id": "da908dcd"
      },
      "source": [
        "### 6.3 - Detecção de Bordas\n",
        "---\n",
        "**Descrição:**\n",
        "\\\n",
        "A detecção de bordas é uma etapa fundamental na Visão Computacional, utilizada para identificar transições bruscas de intensidade na imagem — geralmente associadas aos contornos dos objetos.\n",
        "\n",
        "**Contexto:**\n",
        "\\\n",
        "Dando continuidade à operação policial, após capturar e suavizar a imagem da digital, é necessário destacar seus contornos para facilitar a extração das características da impressão preservando detalhes importantes que serão utilizados na comparação com os registros do banco de dados.\n",
        "\n",
        "**Atividade:**\n",
        "\\\n",
        "Realize o processo de detecção de bordas utilizando o algoritmo de Canny do OpenCV e exiba os resultados lado a lado com a imagem original utilizando a função auxiliar plot_side_by_side. Configure os thresholds (limites inferior e superior) para otimizar a detecção das bordas da impressão digital.\n",
        "\n",
        "Dica: O método cv2.Canny() aceita apenas imagens em tons de cinza. Use o método cv2.cvtColor() para converter a imagem para escala de cinza."
      ]
    },
    {
      "cell_type": "code",
      "execution_count": null,
      "id": "1dc33d65",
      "metadata": {
        "id": "1dc33d65"
      },
      "outputs": [],
      "source": [
        "# Seu código aqui\n",
        "# Imagem 1 - Albert Einstein:\n",
        "edges1 = cv2.Canny(blur1, 50, 150)"
      ]
    },
    {
      "cell_type": "code",
      "source": [
        "# Resultado:\n",
        "plot_side_by_side(gray1, edges1, title1='Cinza', title2='Canny')"
      ],
      "metadata": {
        "id": "7BrtPThz8Sz_"
      },
      "id": "7BrtPThz8Sz_",
      "execution_count": null,
      "outputs": []
    },
    {
      "cell_type": "code",
      "source": [
        "# Imagem 2 - Digitais:\n",
        "edges2 = cv2.Canny(blur2, 10, 40)"
      ],
      "metadata": {
        "id": "fDs1jGOc8aeV"
      },
      "id": "fDs1jGOc8aeV",
      "execution_count": null,
      "outputs": []
    },
    {
      "cell_type": "code",
      "source": [
        "# Resultado:\n",
        "plot_side_by_side(gray2, edges2, title1='Cinza', title2='Canny')"
      ],
      "metadata": {
        "id": "tcgTNd2T8erJ"
      },
      "id": "tcgTNd2T8erJ",
      "execution_count": null,
      "outputs": []
    },
    {
      "cell_type": "markdown",
      "id": "42ab6b77",
      "metadata": {
        "id": "42ab6b77"
      },
      "source": [
        "### 6.4a - Equalização de histograma\n",
        "---\n",
        "**Descrição:**\n",
        "\\\n",
        "A equalização de histograma é uma técnica fundamental em processamento de imagens que visa melhorar o contraste global da imagem através da redistribuição uniforme dos valores de intensidade dos pixels. Este processo transforma o histograma original em uma distribuição mais equilibrada, expandindo a faixa dinâmica de intensidades e revelando detalhes que podem estar ocultos em regiões muito escuras ou muito claras.\n",
        "\n",
        "**Atividade:**\n",
        "\\\n",
        "Realize o processo de equalização de histograma utilizando o metodo cv2.equalizeHist() do OpenCV. Compare os resultados exibindo lado a lado a imagem original e a imagem equalizada utilizando a função plot_side_by_side() e posteriormente exiba seus respectivos histogramas. Analise como a redistributição das intensidades melhora a visualização dos detalhes da imagem.\n",
        "\n",
        "Dica: O método cv2.equalizeHist() aceita apenas imagens em tons de cinza. Caso a imagem esteja colorida, use o método cv2.cvtColor() para convertê-la para escala de cinza antes de aplicar a equalização.\n",
        "\n",
        "**Importante:**\n",
        "\\\n",
        "OpenCV ultiliza BGR, ou seja, RGB inverso em seus cálculos, então faça as alterações necessárias para utilizar o método corretamente."
      ]
    },
    {
      "cell_type": "code",
      "execution_count": null,
      "id": "778ff6df",
      "metadata": {
        "id": "778ff6df"
      },
      "outputs": [],
      "source": [
        "# Recebimento da imagem (Pillow) para aplicacao de filtro de equalizacao e exibição\n",
        "img_original_eq = img_from_url('https://wallpapers.com/images/high/beautiful-dark-grayscale-lake-with-mountains-jknlikw362psa4b3.webp')\n",
        "img_original_eq"
      ]
    },
    {
      "cell_type": "code",
      "execution_count": null,
      "id": "1cef63a4",
      "metadata": {
        "id": "1cef63a4"
      },
      "outputs": [],
      "source": [
        "# Demonstracao das imagens (original e equalizado)\n",
        "# Seu código aqui\n",
        "# Passo 1 - Pil para OpenCV:\n",
        "cv2_image3 = convert_from_image_to_cv2(img_original_eq)\n",
        "gray3 = cv2.cvtColor(cv2_image3, cv2.COLOR_BGR2GRAY)\n",
        "\n",
        "# Passo 2 - Equalização de histograma:\n",
        "eq = cv2.equalizeHist(gray3)\n",
        "\n",
        "# Passo 3 - Resultado:\n",
        "plot_side_by_side(gray3, eq, title1='Original (cinza)', title2='Equalizada')"
      ]
    },
    {
      "cell_type": "code",
      "execution_count": null,
      "id": "fa2e6003",
      "metadata": {
        "id": "fa2e6003"
      },
      "outputs": [],
      "source": [
        "# Utilize a biblioteca matplotlib para a plotagem dos histogramas\n",
        "# Deve ser feito a plotagem do histograma original e equalizado, pode ser feito em celulas de código diferentes do notebook se preferir.\n",
        "# Seu código aqui\n",
        "\n",
        "plt.figure(figsize=(12,4))\n",
        "\n",
        "plt.subplot(1,2,1)\n",
        "plt.hist(gray3.ravel(), bins=256, range=(0,256))\n",
        "plt.title('Histograma - Original'); plt.xlabel('Intensidade'); plt.ylabel('Frequencia')\n",
        "\n",
        "plt.subplot(1,2,2)\n",
        "plt.hist(eq.ravel(), bins=256, range=(0,256))\n",
        "plt.title('Histograma - Equalizada'); plt.xlabel('Intensidade'); plt.ylabel('Frequencia')\n",
        "\n",
        "plt.tight_layout()\n",
        "plt.show()"
      ]
    },
    {
      "cell_type": "markdown",
      "id": "4f471c17",
      "metadata": {
        "id": "4f471c17"
      },
      "source": [
        "### 6.4b - Equalização de histograma\n",
        "---\n",
        "**Descrição:**\n",
        "\\\n",
        "Na atividade anterior, observamos que a equalização de histograma melhorou significativamente a visualização, porém o processamento foi realizado em tons de cinza, resultando na perda das informações de cor originais. Para imagens coloridas, a equalização direta de cada canal RGB pode causar distorções severas de cor, pois altera independentemente os componentes vermelho, verde e azul.\\\n",
        "A solução mais eficaz é utilizar o espaço de cores HSV (Hue, Saturation, Value), onde:\n",
        "\n",
        "*   H (Hue): Representa a matiz/cor propriamente dita\n",
        "*   S (Saturation): Indica a pureza/intensidade da cor\n",
        "*   V (Value): Corresponde ao brilho/luminosidade da imagem\n",
        "\n",
        "![Paisagem](https://www.had2know.org/images/hsv-color-model.png)\n",
        "\n",
        "Ao equalizar apenas o canal V, preservamos as informações de cor (H e S) enquanto melhoramos o contraste global da imagem.\n",
        "\n",
        "**Atividade:**\n",
        "\\\n",
        "Realize o processo de equalização de histograma da imagem RGB utilizando a função cv2.equalizeHist() do OpenCV. Compare os resultados exibindo lado a lado a imagem original e a imagem equalizada utilizando a função plot_side_by_side() e posteriormente exiba seus respectivos histogramas do **canal Value** em HSV . Analise como a redistributição das intensidades melhora a visualização dos detalhes da imagem. Faça as transformações necessárias.\n",
        "\n",
        "Dica: Utilize o metodo cv2.cvtColor() para transformações adicionais e cv2.split() e cv2.merge() para manipulação dos canais de cor."
      ]
    },
    {
      "cell_type": "code",
      "execution_count": null,
      "id": "a9a8ef65",
      "metadata": {
        "id": "a9a8ef65"
      },
      "outputs": [],
      "source": [
        "# recebe uma URL de imagem e converte para uma imagem Pillow\n",
        "img_original_RGB = img_from_url('https://wallpapers.com/images/high/night-hd-desktop-hpyb618fzky9aw2m.webp')\n",
        "img_original_RGB"
      ]
    },
    {
      "cell_type": "code",
      "execution_count": null,
      "id": "818b545a",
      "metadata": {
        "id": "818b545a"
      },
      "outputs": [],
      "source": [
        "# Demonstracao das imagens (original e equalizado)\n",
        "# Seu código aqui\n",
        "# Passo 1 - Pil para OpenCV:\n",
        "cv2_image4 = convert_from_image_to_cv2(img_original_RGB)\n",
        "hsv = cv2.cvtColor(cv2_image4, cv2.COLOR_BGR2HSV)\n",
        "\n",
        "# Passo 2 - Separar canais H, S, V:\n",
        "h, s, v = cv2.split(hsv)\n",
        "\n",
        "# Passo 3 - Equalizar o V:\n",
        "v_eq = cv2.equalizeHist(v)\n",
        "hsv_eq = cv2.merge([h, s, v_eq])\n",
        "\n",
        "# Passo 4 - Retornar para RGB:\n",
        "bgr_eq = cv2.cvtColor(hsv_eq, cv2.COLOR_HSV2BGR)\n",
        "rgb_eq = cv2.cvtColor(bgr_eq, cv2.COLOR_BGR2RGB)\n",
        "rgb_original = cv2.cvtColor(cv2_image4, cv2.COLOR_BGR2RGB)\n",
        "\n",
        "# Passo 5 - Resultado:\n",
        "plot_side_by_side(rgb_original, rgb_eq, title1='Original', title2='Equalizada')"
      ]
    },
    {
      "cell_type": "code",
      "execution_count": null,
      "id": "067927bf",
      "metadata": {
        "id": "067927bf"
      },
      "outputs": [],
      "source": [
        "# Plotagem do histograma original e equalizado\n",
        "# Seu código aqui\n",
        "plt.figure(figsize=(12,4))\n",
        "\n",
        "plt.subplot(1,2,1)\n",
        "plt.hist(v.ravel(), bins=256, range=(0,256))\n",
        "plt.title('Histograma - Original'); plt.xlabel('Intensidade'); plt.ylabel('Frequencia')\n",
        "\n",
        "plt.subplot(1,2,2)\n",
        "plt.hist(v_eq.ravel(), bins=256, range=(0,256))\n",
        "plt.title('Histograma - Equalizada'); plt.xlabel('Intensidade'); plt.ylabel('Frequencia')\n",
        "\n",
        "plt.tight_layout()\n",
        "plt.show()"
      ]
    },
    {
      "cell_type": "markdown",
      "id": "316be6fd",
      "metadata": {
        "id": "316be6fd"
      },
      "source": [
        "### 6.5 - (Desafio) Detecção de Movimento\n",
        "---\n",
        "**Descrição:**\n",
        "\\\n",
        "A detecção de movimento é uma técnica essencial em visão computacional que identifica mudanças temporais entre frames consecutivos de um vídeo ou sequência de imagens.\n",
        "\n",
        "Conceito fundamental de vídeo:\n",
        "\\\n",
        "Um vídeo nada mais é do que uma sequência de imagens estáticas (chamadas de frames) exibidas em alta velocidade para criar a ilusão de movimento. Cada frame representa um \"instantâneo\" temporal da cena capturada. A taxa de frames (frame rate ou FPS - Frames Per Second) determina quantas imagens são exibidas por segundo - por exemplo, um vídeo a 30 FPS significa que 30 imagens individuais são mostradas a cada segundo.\n",
        "\n",
        "Princípio da detecção:\n",
        "\\\n",
        "O princípio fundamental da detecção de movimento baseia-se na subtração de fundo (background subtraction) ou diferença temporal (frame differencing), onde comparamos frames consecutivos pixel por pixel. Pixels que apresentam variações significativas de intensidade entre frames indicam a presença de objetos em movimento. Esta técnica é amplamente utilizada em sistemas de vigilância, monitoramento de tráfego, análise comportamental e detecção de intrusos.\n",
        "\n",
        "**Atividade:**\n",
        "\\\n",
        "Implemente um sistema de detecção de movimento utilizando o algoritmo MOG2 (Mixture of Gaussians) do OpenCV. Processe o vídeo fornecido frame por frame, aplicando o filtro de subtração de fundo para identificar áreas em movimento. O resultado deve ser um vídeo onde as regiões estáticas aparecem em preto e as áreas com movimento aparecem em branco.\n",
        "\n",
        "Dicas:\n",
        "\n",
        "*   Use cv2.createBackgroundSubtractorMOG2() para criar o detector de movimento\n",
        "*   Processe cada frame convertendo para tons de cinza com\n",
        "*   Aplique o detector para obter a máscara de movimento\n",
        "*   Para salvar o vídeo, use imageio.mimsave() que é mais compatível com visualização no navegador\n",
        "\n",
        "**Importante:**\n",
        "*   OpenCV utiliza BGR (Blue-Green-Red) internamente, mas navegadores web esperam RGB (Red-Green-Red). Use cv2.COLOR_GRAY2RGB ao converter de tons de cinza para RGB antes de salvar\n",
        "*   Lembre-se de obter o FPS original para manter a velocidade correta\n",
        "*   Use video.release() para liberar os recursos do vídeo após o processamento"
      ]
    },
    {
      "cell_type": "code",
      "execution_count": null,
      "id": "4cc4dc3d",
      "metadata": {
        "id": "4cc4dc3d"
      },
      "outputs": [],
      "source": [
        "# Download do video para questão\n",
        "!pip install -q gdown\n",
        "!gdown 'https://drive.google.com/uc?export=download&id=1SGc8diwMBtztJgRNAWF_BXnTcf72cWFw' --output video.mp4            # Não mudar o link do vídeo"
      ]
    },
    {
      "cell_type": "code",
      "execution_count": null,
      "id": "f2d1aa36",
      "metadata": {
        "id": "f2d1aa36"
      },
      "outputs": [],
      "source": [
        "import base64\n",
        "from IPython.display import HTML, display, clear_output\n",
        "import imageio"
      ]
    },
    {
      "cell_type": "code",
      "execution_count": null,
      "id": "be748157",
      "metadata": {
        "id": "be748157"
      },
      "outputs": [],
      "source": [
        "video_path = '/content/video.mp4'"
      ]
    },
    {
      "cell_type": "code",
      "execution_count": null,
      "id": "77456901",
      "metadata": {
        "id": "77456901"
      },
      "outputs": [],
      "source": [
        "# Função Auxiliar\n",
        "\n",
        "def show_video_html(video_path, width=600):\n",
        "    \"\"\"Mostra vídeo usando HTML5 player\"\"\"\n",
        "    with open(video_path, 'rb') as f:\n",
        "        video_data = f.read()\n",
        "\n",
        "    video_base64 = base64.b64encode(video_data).decode()\n",
        "\n",
        "    html = f\"\"\"\n",
        "    <video width=\"{width}\" controls>\n",
        "        <source src=\"data:video/mp4;base64,{video_base64}\" type=\"video/mp4\">\n",
        "    </video>\n",
        "    \"\"\"\n",
        "\n",
        "    display(HTML(html))\n",
        "show_video_html(video_path)"
      ]
    },
    {
      "cell_type": "markdown",
      "source": [
        "<small>**PS: Devido ao vídeo possuir 64 segundos, a execução da célula para aplicação do filtro pode demorar um pouco, mas não se preocupe, é normal!**</small>"
      ],
      "metadata": {
        "id": "9WPjo_QYal0V"
      },
      "id": "9WPjo_QYal0V"
    },
    {
      "cell_type": "code",
      "execution_count": null,
      "id": "472a6f45",
      "metadata": {
        "id": "472a6f45"
      },
      "outputs": [],
      "source": [
        "# Use para manipulacao do video\n",
        "video = cv2.VideoCapture(video_path)\n",
        "\n",
        "# Use para aplicação do filtro de subtracao\n",
        "bg = cv2.createBackgroundSubtractorMOG2()\n",
        "\n",
        "# Use esse path para salvar o arquivo\n",
        "output_imageio = '/content/deteccao.mp4'"
      ]
    },
    {
      "cell_type": "code",
      "execution_count": null,
      "id": "c96fb34a",
      "metadata": {
        "id": "c96fb34a"
      },
      "outputs": [],
      "source": [
        "# Seu codigo aqui\n",
        "# Passo 1 - Ler o FPS do vídeo:\n",
        "fps = video.get(cv2.CAP_PROP_FPS)\n",
        "if not fps or fps != fps or fps <= 0:\n",
        "  fps = 24\n",
        "\n",
        "# Passo 2 - Processar frame por frame:\n",
        "frames_rgb = []\n",
        "\n",
        "while True:\n",
        "  ok, frames_bgr = video.read()\n",
        "\n",
        "  if not ok:\n",
        "    break\n",
        "\n",
        "  # Passo 3 - Deixar Cinza:\n",
        "  gray_video = cv2.cvtColor(frames_bgr, cv2.COLOR_BGR2GRAY)\n",
        "\n",
        "  # Passo 4 - Aplicar mascara:\n",
        "  mask = bg.apply(gray_video)\n",
        "\n",
        "  # Passo 5 - Converter o Cinza para RGB\n",
        "  mask_rgb = cv2.cvtColor(mask, cv2.COLOR_GRAY2RGB)\n",
        "  frames_rgb.append(mask_rgb)"
      ]
    },
    {
      "cell_type": "code",
      "source": [
        "# Passo 6 - Liberar o video:\n",
        "video.release()\n",
        "if frames_rgb:\n",
        "  imageio.mimsave(output_imageio, frames_rgb, fps=int(round(fps)) or 24)"
      ],
      "metadata": {
        "id": "ORReCTNlA_qs"
      },
      "id": "ORReCTNlA_qs",
      "execution_count": null,
      "outputs": []
    },
    {
      "cell_type": "code",
      "execution_count": null,
      "id": "86bce492",
      "metadata": {
        "id": "86bce492"
      },
      "outputs": [],
      "source": [
        "#exibe o video resultante\n",
        "show_video_html('/content/deteccao.mp4')"
      ]
    }
  ],
  "metadata": {
    "kernelspec": {
      "display_name": "venv (3.13.7)",
      "language": "python",
      "name": "python3"
    },
    "language_info": {
      "codemirror_mode": {
        "name": "ipython",
        "version": 3
      },
      "file_extension": ".py",
      "mimetype": "text/x-python",
      "name": "python",
      "nbconvert_exporter": "python",
      "pygments_lexer": "ipython3",
      "version": "3.13.7"
    },
    "colab": {
      "provenance": []
    }
  },
  "nbformat": 4,
  "nbformat_minor": 5
}
